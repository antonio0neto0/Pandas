{
 "cells": [
  {
   "cell_type": "code",
   "execution_count": null,
   "metadata": {},
   "outputs": [
    {
     "data": {
      "text/html": [
       "<div>\n",
       "<style scoped>\n",
       "    .dataframe tbody tr th:only-of-type {\n",
       "        vertical-align: middle;\n",
       "    }\n",
       "\n",
       "    .dataframe tbody tr th {\n",
       "        vertical-align: top;\n",
       "    }\n",
       "\n",
       "    .dataframe thead th {\n",
       "        text-align: right;\n",
       "    }\n",
       "</style>\n",
       "<table border=\"1\" class=\"dataframe\">\n",
       "  <thead>\n",
       "    <tr style=\"text-align: right;\">\n",
       "      <th></th>\n",
       "      <th>id_cliente</th>\n",
       "      <th>nome</th>\n",
       "      <th>Item</th>\n",
       "    </tr>\n",
       "  </thead>\n",
       "  <tbody>\n",
       "    <tr>\n",
       "      <th>0</th>\n",
       "      <td>1</td>\n",
       "      <td>Alice</td>\n",
       "      <td>Monitor</td>\n",
       "    </tr>\n",
       "    <tr>\n",
       "      <th>1</th>\n",
       "      <td>2</td>\n",
       "      <td>Bob</td>\n",
       "      <td>Cadeira</td>\n",
       "    </tr>\n",
       "    <tr>\n",
       "      <th>2</th>\n",
       "      <td>3</td>\n",
       "      <td>Carlos</td>\n",
       "      <td>Lápis</td>\n",
       "    </tr>\n",
       "  </tbody>\n",
       "</table>\n",
       "</div>"
      ],
      "text/plain": [
       "   id_cliente    nome     Item\n",
       "0           1   Alice  Monitor\n",
       "1           2     Bob  Cadeira\n",
       "2           3  Carlos    Lápis"
      ]
     },
     "execution_count": 2,
     "metadata": {},
     "output_type": "execute_result"
    }
   ],
   "source": [
    "import pandas as pd \n",
    "\n",
    "# INNER JOIN\n",
    "pessoas = pd.read_csv('./pessoas.csv')\n",
    "vendas1 = pd.read_csv('./vendas_1.csv')\n",
    "vendas2 = pd.read_csv('./vendas_2.csv')\n",
    "# Inner join - Me permite unir colunas de diferentes dataframes, com base em uma coluna em comum\n",
    "# id_cliente, Nome, id_pedido, Produto\n",
    "pessoas_e_vendas = pd.merge(pessoas,vendas1,on='id_cliente')\n",
    "pessoas_e_vendas.head(5)\n",
    "# Como unir informações, quando as colunas possuem nomes diferentes\n",
    "pessoas_e_vendas2 = pd.merge(pessoas,vendas2,left_on='id_cliente',right_on='identificador_cliente')\n",
    "pessoas_e_vendas2.head(5)\n",
    "# Como especificar quais colunas queremos retornar?\n",
    "pedidos_e_vendas_0 = pd.merge(pessoas[['id_cliente','nome']],vendas1[['id_cliente','Produto']],on='id_cliente')\n",
    "pedidos_e_vendas_0.head(5)\n",
    "\n",
    "pedidos_e_vendas1 = pd.merge(pessoas[['id_cliente','nome']],vendas2[['identificador_cliente','Item']],left_on='id_cliente',right_on='identificador_cliente')\n",
    "pedidos_e_vendas1 = pedidos_e_vendas1.drop('identificador_cliente',axis=1)\n",
    "# pedidos_e_vendas1.head(5)\n"
   ]
  }
 ],
 "metadata": {
  "kernelspec": {
   "display_name": "neto",
   "language": "python",
   "name": "python3"
  },
  "language_info": {
   "codemirror_mode": {
    "name": "ipython",
    "version": 3
   },
   "file_extension": ".py",
   "mimetype": "text/x-python",
   "name": "python",
   "nbconvert_exporter": "python",
   "pygments_lexer": "ipython3",
   "version": "3.13.2"
  }
 },
 "nbformat": 4,
 "nbformat_minor": 2
}
