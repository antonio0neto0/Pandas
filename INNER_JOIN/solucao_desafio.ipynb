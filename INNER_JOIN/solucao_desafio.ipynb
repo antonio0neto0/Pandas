{
 "cells": [
  {
   "cell_type": "code",
   "execution_count": 3,
   "metadata": {},
   "outputs": [
    {
     "data": {
      "text/html": [
       "<div>\n",
       "<style scoped>\n",
       "    .dataframe tbody tr th:only-of-type {\n",
       "        vertical-align: middle;\n",
       "    }\n",
       "\n",
       "    .dataframe tbody tr th {\n",
       "        vertical-align: top;\n",
       "    }\n",
       "\n",
       "    .dataframe thead th {\n",
       "        text-align: right;\n",
       "    }\n",
       "</style>\n",
       "<table border=\"1\" class=\"dataframe\">\n",
       "  <thead>\n",
       "    <tr style=\"text-align: right;\">\n",
       "      <th></th>\n",
       "      <th>id_aluno</th>\n",
       "      <th>nome_aluno</th>\n",
       "      <th>id_prova</th>\n",
       "      <th>nota</th>\n",
       "    </tr>\n",
       "  </thead>\n",
       "  <tbody>\n",
       "    <tr>\n",
       "      <th>0</th>\n",
       "      <td>1</td>\n",
       "      <td>Ana</td>\n",
       "      <td>101</td>\n",
       "      <td>85</td>\n",
       "    </tr>\n",
       "    <tr>\n",
       "      <th>2</th>\n",
       "      <td>3</td>\n",
       "      <td>Carla</td>\n",
       "      <td>102</td>\n",
       "      <td>90</td>\n",
       "    </tr>\n",
       "  </tbody>\n",
       "</table>\n",
       "</div>"
      ],
      "text/plain": [
       "   id_aluno nome_aluno  id_prova  nota\n",
       "0         1        Ana       101    85\n",
       "2         3      Carla       102    90"
      ]
     },
     "execution_count": 3,
     "metadata": {},
     "output_type": "execute_result"
    }
   ],
   "source": [
    "import pandas as pd\n",
    "\n",
    "alunos = pd.read_csv('./alunos.csv')\n",
    "notas = pd.read_csv('./notas.csv')\n",
    "\n",
    "# Desafio: Realize um inner join entre os DataFrames alunos e notas usando o 'id_aluno' como chave. O objetivo é criar um DataFrame que combine o nome do aluno com a nota correspondente.\n",
    "alunos_e_notas = pd.merge(alunos, notas, on='id_aluno')\n",
    "alunos_e_notas.head(5)\n",
    "\n",
    "# Desafio: Após realizar o inner join, selecione apenas as colunas 'nome_aluno' e 'nota' para exibição no DataFrame resultante.(head(5))\n",
    "nome_e_nota = alunos_e_notas[['nome_aluno', 'nota']]\n",
    "nome_e_nota.head(5)\n",
    "\n",
    "\n",
    "\n",
    "# Desafio: Identifique e liste os alunos que obtiveram notas acima de 80 no DataFrame resultante do inner join.\n",
    "alunos_acima_80 = alunos_e_notas[alunos_e_notas['nota'] > 80]\n",
    "alunos_acima_80.head(5)\n",
    "\n",
    "\n"
   ]
  }
 ],
 "metadata": {
  "kernelspec": {
   "display_name": "neto",
   "language": "python",
   "name": "python3"
  },
  "language_info": {
   "codemirror_mode": {
    "name": "ipython",
    "version": 3
   },
   "file_extension": ".py",
   "mimetype": "text/x-python",
   "name": "python",
   "nbconvert_exporter": "python",
   "pygments_lexer": "ipython3",
   "version": "3.13.2"
  }
 },
 "nbformat": 4,
 "nbformat_minor": 2
}
