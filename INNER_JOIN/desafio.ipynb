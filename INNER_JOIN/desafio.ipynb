{
 "cells": [
  {
   "cell_type": "code",
   "execution_count": 9,
   "metadata": {},
   "outputs": [],
   "source": [
    "import pandas as pd\n",
    "\n",
    "alunos = pd.read_csv('./alunos.csv')\n",
    "notas = pd.read_csv('./notas.csv')\n",
    "\n",
    "# Desafio: Realize um inner join entre os DataFrames alunos e notas usando o 'id_aluno' como chave. O objetivo é criar um DataFrame que combine o nome do aluno com a nota correspondente.\n",
    "\n",
    "# Desafio: Após realizar o inner join, selecione apenas as colunas 'nome_aluno' e 'nota' para exibição no DataFrame resultante.(head(5))\n",
    "\n",
    "# Desafio: Identifique e liste os alunos que obtiveram notas acima de 80 no DataFrame resultante do inner join."
   ]
  }
 ],
 "metadata": {
  "kernelspec": {
   "display_name": "jhonatan",
   "language": "python",
   "name": "python3"
  },
  "language_info": {
   "codemirror_mode": {
    "name": "ipython",
    "version": 3
   },
   "file_extension": ".py",
   "mimetype": "text/x-python",
   "name": "python",
   "nbconvert_exporter": "python",
   "pygments_lexer": "ipython3",
   "version": "3.12.0"
  }
 },
 "nbformat": 4,
 "nbformat_minor": 2
}
