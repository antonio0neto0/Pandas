{
 "cells": [
  {
   "cell_type": "code",
   "execution_count": null,
   "id": "5eb5da7f",
   "metadata": {},
   "outputs": [
    {
     "data": {
      "text/html": [
       "<div>\n",
       "<style scoped>\n",
       "    .dataframe tbody tr th:only-of-type {\n",
       "        vertical-align: middle;\n",
       "    }\n",
       "\n",
       "    .dataframe tbody tr th {\n",
       "        vertical-align: top;\n",
       "    }\n",
       "\n",
       "    .dataframe thead th {\n",
       "        text-align: right;\n",
       "    }\n",
       "</style>\n",
       "<table border=\"1\" class=\"dataframe\">\n",
       "  <thead>\n",
       "    <tr style=\"text-align: right;\">\n",
       "      <th></th>\n",
       "      <th>id_cliente;nome;endereco;email;data_nascimento;sexo;nivel_fidelidade</th>\n",
       "    </tr>\n",
       "  </thead>\n",
       "  <tbody>\n",
       "    <tr>\n",
       "      <th>0</th>\n",
       "      <td>1;Gabrielly da Costa;\"Avenida de Moraes; 371</td>\n",
       "    </tr>\n",
       "    <tr>\n",
       "      <th>1</th>\n",
       "      <td>Vila Jardim Alvorada</td>\n",
       "    </tr>\n",
       "    <tr>\n",
       "      <th>2</th>\n",
       "      <td>90991757 Correia / MG\";dda-mota@example.com;19...</td>\n",
       "    </tr>\n",
       "    <tr>\n",
       "      <th>3</th>\n",
       "      <td>2;Luiza Silva;\"Travessa de Pinto; 4</td>\n",
       "    </tr>\n",
       "    <tr>\n",
       "      <th>4</th>\n",
       "      <td>Vila Maloca</td>\n",
       "    </tr>\n",
       "  </tbody>\n",
       "</table>\n",
       "</div>"
      ],
      "text/plain": [
       "  id_cliente;nome;endereco;email;data_nascimento;sexo;nivel_fidelidade\n",
       "0       1;Gabrielly da Costa;\"Avenida de Moraes; 371                  \n",
       "1                               Vila Jardim Alvorada                  \n",
       "2  90991757 Correia / MG\";dda-mota@example.com;19...                  \n",
       "3                2;Luiza Silva;\"Travessa de Pinto; 4                  \n",
       "4                                        Vila Maloca                  "
      ]
     },
     "execution_count": 19,
     "metadata": {},
     "output_type": "execute_result"
    }
   ],
   "source": [
    "import pandas as pd\n",
    "\n",
    "#CSV\n",
    "clientes = pd.read_csv('./clientes.csv') #dataframe\n",
    "clientes.head(5) # 5 = as 5 primeiras linhas e 5 é o padrao default\n",
    "# colunas especificas\n",
    "clientes[['nome', 'email', 'nivel_fidelidade']].head(10)  #read = inicio \n",
    "clientes[['nome', 'email', 'nivel_fidelidade']].tail(5)  #tail = final\n",
    "\n",
    "#XLSX\n",
    "clientes_xlsx = pd.read_excel('./clientes.xlsx')\n",
    "clientes_xlsx.head(5)\n",
    "\n",
    "#TXT\n",
    "clientes_txt = pd.read_csv('./clientes.txt', delimiter=';')\n",
    "clientes_txt.head(5)"
   ]
  }
 ],
 "metadata": {
  "kernelspec": {
   "display_name": "neto",
   "language": "python",
   "name": "python3"
  },
  "language_info": {
   "codemirror_mode": {
    "name": "ipython",
    "version": 3
   },
   "file_extension": ".py",
   "mimetype": "text/x-python",
   "name": "python",
   "nbconvert_exporter": "python",
   "pygments_lexer": "ipython3",
   "version": "3.13.2"
  }
 },
 "nbformat": 4,
 "nbformat_minor": 5
}
