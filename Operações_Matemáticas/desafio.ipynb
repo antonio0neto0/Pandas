{
 "cells": [
  {
   "cell_type": "code",
   "execution_count": 1,
   "metadata": {},
   "outputs": [],
   "source": [
    "import pandas as pd\n",
    "\n",
    "supermercado = pd.read_csv('./vendas-supermercado.csv')\n",
    "# Desafio 1 - Imprima(print) na tela os 5 primeiros registros do dataframe supermercado, exibindo apenas as colunas Quantidade, Subcategoria e Vendas.\n",
    "\n",
    "# Desafio 2 - Aumente o preço da venda em 30% para todos os produtos da subcategoria 'Cadeiras' e depois imprima(print) na tela os 5 primeiros registros do dataframe supermercado, exibindo apenas as colunas Quantidade, Subcategoria e Vendas.\n",
    "\n",
    "# Desafio 3 - Aplique um desconto de 15% no valor das Vendas onde a quantidade é superior a 5 unidades e depois imprima(print) na tela os 5 primeiros registros do dataframe supermercado, exibindo apenas as colunas Quantidade, Subcategoria e Vendas."
   ]
  }
 ],
 "metadata": {
  "kernelspec": {
   "display_name": "jhonatan",
   "language": "python",
   "name": "python3"
  },
  "language_info": {
   "codemirror_mode": {
    "name": "ipython",
    "version": 3
   },
   "file_extension": ".py",
   "mimetype": "text/x-python",
   "name": "python",
   "nbconvert_exporter": "python",
   "pygments_lexer": "ipython3",
   "version": "3.12.0"
  }
 },
 "nbformat": 4,
 "nbformat_minor": 2
}
