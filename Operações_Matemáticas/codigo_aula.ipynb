{
 "cells": [
  {
   "cell_type": "code",
   "execution_count": 63,
   "metadata": {},
   "outputs": [
    {
     "name": "stdout",
     "output_type": "stream",
     "text": [
      "   Vendas\n",
      "0  261.96\n",
      "                Categoria    Vendas\n",
      "0                  Móveis  188.6112\n",
      "1                  Móveis  526.9968\n",
      "2  Material de Escritório   11.6960\n",
      "3                  Móveis  689.4558\n",
      "4  Material de Escritório   17.8944\n"
     ]
    }
   ],
   "source": [
    "import pandas as pd\n",
    "\n",
    "supermercado = pd.read_csv('./vendas-supermercado.csv')\n",
    "print(supermercado[['Vendas']].head(1))\n",
    "# Operações básicas (soma, subtração, multiplição, divisão)\n",
    "# supermercado['Vendas'] = supermercado['Vendas'] + 2\n",
    "supermercado[['Vendas']].head(1)\n",
    "# Cálculos percentuais (aplicar desconto de 20%)\n",
    "supermercado['Vendas'] = supermercado['Vendas'] * 0.80\n",
    "supermercado[['Vendas']].head(1)\n",
    "# Operações matemáticas baseadas em condições (aplicar 10% de desconto na categoria móveis)\n",
    "supermercado.loc[supermercado['Categoria'] == 'Móveis','Vendas'] *= 0.9\n",
    "print(supermercado[['Categoria','Vendas']].head(5))\n"
   ]
  }
 ],
 "metadata": {
  "kernelspec": {
   "display_name": "jhonatan",
   "language": "python",
   "name": "python3"
  },
  "language_info": {
   "codemirror_mode": {
    "name": "ipython",
    "version": 3
   },
   "file_extension": ".py",
   "mimetype": "text/x-python",
   "name": "python",
   "nbconvert_exporter": "python",
   "pygments_lexer": "ipython3",
   "version": "3.12.0"
  }
 },
 "nbformat": 4,
 "nbformat_minor": 2
}
