{
 "cells": [
  {
   "cell_type": "code",
   "execution_count": 1,
   "metadata": {},
   "outputs": [
    {
     "name": "stdout",
     "output_type": "stream",
     "text": [
      "   Quantidade   Subcategoria    Vendas\n",
      "0           2       Estantes  261.9600\n",
      "1           3       Cadeiras  731.9400\n",
      "2           2      Etiquetas   14.6200\n",
      "3           5          Mesas  957.5775\n",
      "4           2  Armazenamento   22.3680\n",
      "   Quantidade   Subcategoria    Vendas\n",
      "0           2       Estantes  261.9600\n",
      "1           3       Cadeiras  951.5220\n",
      "2           2      Etiquetas   14.6200\n",
      "3           5          Mesas  957.5775\n",
      "4           2  Armazenamento   22.3680\n",
      "\n",
      "\n",
      "   Quantidade   Subcategoria    Vendas\n",
      "0           2       Estantes  261.9600\n",
      "1           3       Cadeiras  951.5220\n",
      "2           2      Etiquetas   14.6200\n",
      "3           5          Mesas  957.5775\n",
      "4           2  Armazenamento   22.3680\n"
     ]
    }
   ],
   "source": [
    "import pandas as pd\n",
    "\n",
    "\n",
    "supermercado = pd.read_csv('./vendas-supermercado.csv')\n",
    "# Desafio 1 - Imprima(print) na tela os 5 primeiros registros do dataframe supermercado, exibindo apenas as colunas Quantidade, Subcategoria e Vendas.\n",
    "print(supermercado[['Quantidade','Subcategoria','Vendas']].head(5))\n",
    "\n",
    "\n",
    "# Desafio 2 - Aumento o preço da venda em 30% para todos os produtos da subcategoria 'Cadeiras' e depois imprima(print) na tela os 5 primeiros registros do dataframe supermercado, exibindo apenas as colunas Quantidade, Subcategoria e Vendas.\n",
    "supermercado.loc[supermercado['Subcategoria'] == 'Cadeiras', 'Vendas'] *= 1.3\n",
    "print(supermercado[['Quantidade','Subcategoria','Vendas']].head(5))\n",
    "print('\\n')\n",
    "\n",
    "# Desafio 3 - Aplique um desconto de 15% no valor das Vendas onde a quantidade é superior a 5 unidades e depois imprima(imprima) na tela os 5 primeiros registros do dataframe supermercado, exibindo apenas as colunas Quantidade, Subcategoria e Vendas.\n",
    "supermercado.loc[supermercado['Quantidade'] > 5, 'Vendas'] *= 0.75\n",
    "print(supermercado[['Quantidade','Subcategoria','Vendas']].head(5))\n",
    "\n",
    "\n"
   ]
  }
 ],
 "metadata": {
  "kernelspec": {
   "display_name": "neto",
   "language": "python",
   "name": "python3"
  },
  "language_info": {
   "codemirror_mode": {
    "name": "ipython",
    "version": 3
   },
   "file_extension": ".py",
   "mimetype": "text/x-python",
   "name": "python",
   "nbconvert_exporter": "python",
   "pygments_lexer": "ipython3",
   "version": "3.13.2"
  }
 },
 "nbformat": 4,
 "nbformat_minor": 2
}
