{
 "cells": [
  {
   "cell_type": "code",
   "execution_count": 1,
   "metadata": {},
   "outputs": [
    {
     "data": {
      "text/plain": [
       "id       0\n",
       "nome     0\n",
       "email    0\n",
       "idade    0\n",
       "dtype: int64"
      ]
     },
     "execution_count": 1,
     "metadata": {},
     "output_type": "execute_result"
    }
   ],
   "source": [
    "# Desafios\n",
    "import pandas as pd\n",
    "\n",
    "#  Mostre quais colunas possuem valores nulos\n",
    "students = pd.read_csv('./students.csv')\n",
    "students.isnull().sum()\n",
    "# Remova todos os registros de emails duplicados, e, depois mostre novamente quais colunas possuem valores nulos\n",
    "students = students.drop_duplicates(subset=['email'])\n",
    "students.isnull().sum()\n",
    "# Preencha as colunas vazias de \"idade\" com a idade média e depois mostre quais colunas possuem valores vazios\n",
    "students['idade'] = students['idade'].fillna(students['idade'].mean())\n",
    "students.isnull().sum()"
   ]
  }
 ],
 "metadata": {
  "kernelspec": {
   "display_name": "jhonatan2",
   "language": "python",
   "name": "python3"
  },
  "language_info": {
   "codemirror_mode": {
    "name": "ipython",
    "version": 3
   },
   "file_extension": ".py",
   "mimetype": "text/x-python",
   "name": "python",
   "nbconvert_exporter": "python",
   "pygments_lexer": "ipython3",
   "version": "3.12.2"
  }
 },
 "nbformat": 4,
 "nbformat_minor": 2
}
