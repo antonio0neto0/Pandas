{
 "cells": [
  {
   "cell_type": "code",
   "execution_count": 5,
   "metadata": {},
   "outputs": [],
   "source": [
    "# Desafios\n",
    "import pandas as pd\n",
    "\n",
    "#  Mostre quais colunas possuem valores nulos\n",
    "students = pd.read_csv('./students.csv')\n",
    "students.isnull().sum()\n",
    "# Remova todos os registros de emails duplicados, e, depois mostre novamente quais colunas possuem valores nulos\n",
    "students = students.drop_duplicates(subset=['email'])\n",
    "students.isnull().sum()\n",
    "# Preencha as colunas vazias de \"idade\" com a idade média e depois mostre quais colunas possuem valores vazios\n",
    "students['idade'] = students['idade'].fillna(students['idade'].mean())\n",
    "students.isnull().sum()\n",
    "\n",
    "students.to_csv('./estudantes_limpo.csv',index=False)"
   ]
  }
 ],
 "metadata": {
  "kernelspec": {
   "display_name": "neto",
   "language": "python",
   "name": "python3"
  },
  "language_info": {
   "codemirror_mode": {
    "name": "ipython",
    "version": 3
   },
   "file_extension": ".py",
   "mimetype": "text/x-python",
   "name": "python",
   "nbconvert_exporter": "python",
   "pygments_lexer": "ipython3",
   "version": "3.13.2"
  }
 },
 "nbformat": 4,
 "nbformat_minor": 2
}
