{
 "cells": [
  {
   "cell_type": "code",
   "execution_count": 7,
   "metadata": {},
   "outputs": [],
   "source": [
    "import pandas as pd\n",
    "\n",
    "clientes = pd.read_csv('clientes.csv')\n",
    "pedidos = pd.read_csv('pedidos.csv')\n",
    "\n",
    "# Como identificar valores nulos\n",
    "clientes.isnull().sum()\n",
    "pedidos.isnull().sum()\n",
    "\n",
    "# Para preencher as células que possuem valores vazios, com base em uma coluna\n",
    "pedidos['custo_envio'] = pedidos['custo_envio'].fillna(0)\n",
    "pedidos.isnull().sum()\n",
    "pedidos['tempo_entrega_dias'] = pedidos['tempo_entrega_dias'].fillna(pedidos['tempo_entrega_dias'].mean())\n",
    "pedidos.isnull().sum()\n",
    "\n",
    "# meanp = pedidos['tempo_entrega_dias'].mean()       como formatar\n",
    "# rounded_number = round(meanp, 1)  # sem nada deixa inteiro\n",
    "# print(rounded_number)\n",
    "\n",
    "# Caso queira remover a linha que possui valores nulos, com base em uma coluna\n",
    "pedidos = pedidos.dropna(subset=['custo_envio'])\n",
    "pedidos.isnull().sum()\n",
    "# Para remover as linhas que possuem valores nulos em qualquer coluna\n",
    "pedidos = pedidos.dropna()\n",
    "# pedidos.isnull().sum()\n",
    "\n",
    "# Contando duplicatas\n",
    "clientes.duplicated('email').sum()\n",
    "clientes.describe()\n",
    "# deixar int \n",
    "# dupli = clientes.duplicated('email').sum()\n",
    "# clientes_int = int(dupli)\n",
    "# clientes_int\n",
    "\n",
    "#remover duplicados coluna\n",
    "clientes = clientes.drop_duplicates('email')\n",
    "clientes.describe()\n",
    "\n",
    "pedidos.to_csv('./produtos_limpo_entregas2.csv',index=False)\n",
    "clientes.to_csv('./clientes_limpo_.csv',index=False)\n",
    "#pedidos.to_csv('./produtos_limpo_apagado.csv',index=False)"
   ]
  }
 ],
 "metadata": {
  "kernelspec": {
   "display_name": "neto",
   "language": "python",
   "name": "python3"
  },
  "language_info": {
   "codemirror_mode": {
    "name": "ipython",
    "version": 3
   },
   "file_extension": ".py",
   "mimetype": "text/x-python",
   "name": "python",
   "nbconvert_exporter": "python",
   "pygments_lexer": "ipython3",
   "version": "3.13.2"
  }
 },
 "nbformat": 4,
 "nbformat_minor": 2
}
