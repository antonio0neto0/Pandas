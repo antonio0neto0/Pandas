{
 "cells": [
  {
   "cell_type": "code",
   "execution_count": null,
   "metadata": {},
   "outputs": [],
   "source": [
    "# Desafios\n",
    "\n",
    "#  Mostre quais colunas possuem valores nulos\n",
    "# Remova todos os registros de emails duplicados, e, depois mostre novamente quais colunas possuem valores nulos\n",
    "# Preencha as colunas vazias de \"idade\" com a idade média e depois mostre quais colunas possuem valores vazios"
   ]
  }
 ],
 "metadata": {
  "language_info": {
   "name": "python"
  }
 },
 "nbformat": 4,
 "nbformat_minor": 2
}
