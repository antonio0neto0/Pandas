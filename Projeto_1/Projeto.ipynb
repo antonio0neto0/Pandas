{
 "cells": [
  {
   "cell_type": "code",
   "execution_count": 7,
   "id": "5ec74fde",
   "metadata": {},
   "outputs": [
    {
     "data": {
      "text/html": [
       "<div>\n",
       "<style scoped>\n",
       "    .dataframe tbody tr th:only-of-type {\n",
       "        vertical-align: middle;\n",
       "    }\n",
       "\n",
       "    .dataframe tbody tr th {\n",
       "        vertical-align: top;\n",
       "    }\n",
       "\n",
       "    .dataframe thead th {\n",
       "        text-align: right;\n",
       "    }\n",
       "</style>\n",
       "<table border=\"1\" class=\"dataframe\">\n",
       "  <thead>\n",
       "    <tr style=\"text-align: right;\">\n",
       "      <th></th>\n",
       "      <th>mean</th>\n",
       "      <th>median</th>\n",
       "    </tr>\n",
       "    <tr>\n",
       "      <th>Categoria</th>\n",
       "      <th></th>\n",
       "      <th></th>\n",
       "    </tr>\n",
       "  </thead>\n",
       "  <tbody>\n",
       "    <tr>\n",
       "      <th>Alimentos</th>\n",
       "      <td>102.592431</td>\n",
       "      <td>98.735</td>\n",
       "    </tr>\n",
       "    <tr>\n",
       "      <th>Bebidas</th>\n",
       "      <td>99.538084</td>\n",
       "      <td>102.960</td>\n",
       "    </tr>\n",
       "    <tr>\n",
       "      <th>Eletrônicos</th>\n",
       "      <td>100.930244</td>\n",
       "      <td>101.240</td>\n",
       "    </tr>\n",
       "    <tr>\n",
       "      <th>Higiene</th>\n",
       "      <td>99.469607</td>\n",
       "      <td>97.480</td>\n",
       "    </tr>\n",
       "    <tr>\n",
       "      <th>Limpeza</th>\n",
       "      <td>98.487974</td>\n",
       "      <td>92.655</td>\n",
       "    </tr>\n",
       "  </tbody>\n",
       "</table>\n",
       "</div>"
      ],
      "text/plain": [
       "                   mean   median\n",
       "Categoria                       \n",
       "Alimentos    102.592431   98.735\n",
       "Bebidas       99.538084  102.960\n",
       "Eletrônicos  100.930244  101.240\n",
       "Higiene       99.469607   97.480\n",
       "Limpeza       98.487974   92.655"
      ]
     },
     "execution_count": 7,
     "metadata": {},
     "output_type": "execute_result"
    }
   ],
   "source": [
    "# Tarefa 1\n",
    "\"\"\"\n",
    "Calcule a média e a mediana das vendas para cada categoria de produto, ou seja, para cada agrupamento de categoria de produto, com base nos produtos e vendas registradas no arquivo vendas_supermercado.cs\n",
    "\"\"\"\n",
    "import pandas as pd\n",
    "mercado = pd.read_csv('./vendas_supermercado.csv')\n",
    "vendas_por_categoria = mercado.groupby('Categoria')['Vendas'].agg(['mean', 'median'])\n",
    "# vendas_por_categoriar = round(vendas_por_categoria, 2)\n",
    "\n",
    "vendas_por_categoria\n"
   ]
  },
  {
   "cell_type": "code",
   "execution_count": 8,
   "id": "c9570a32",
   "metadata": {},
   "outputs": [
    {
     "data": {
      "text/plain": [
       "Dia da Semana\n",
       "Domingo     98.262550\n",
       "Quarta     101.677733\n",
       "Quinta     101.320515\n",
       "Segunda    101.578824\n",
       "Sexta       86.620903\n",
       "Sábado     102.485548\n",
       "Terça      110.144748\n",
       "Name: Vendas, dtype: float64"
      ]
     },
     "execution_count": 8,
     "metadata": {},
     "output_type": "execute_result"
    }
   ],
   "source": [
    "\n",
    "# Tarefa 2 - Identificação de Padrões Temporais nas Vendas\n",
    "# Me diga qual é a média de vendas de acordo com cada dia da semana, com base nos dados registrados no arquivo vendas_supermercado.csv\n",
    "\n",
    "# Resolução da Tarefa 2: Converter datas e agrupar por dia da semana\n",
    "\n",
    "mercado['Data do Pedido'] = pd.to_datetime(mercado['Data do Pedido'])\n",
    "mercado['Dia da Semana'] = mercado['Data do Pedido'].dt.dayofweek\n",
    "\n",
    "dias_semana = {0: 'Segunda', 1: 'Terça', 2: 'Quarta', 3: 'Quinta', 4: 'Sexta', 5: 'Sábado', 6: 'Domingo'}\n",
    "\n",
    "mercado['Dia da Semana'] = mercado['Dia da Semana'].map(dias_semana)\n",
    "\n",
    "vendas_por_dia = mercado.groupby('Dia da Semana')['Vendas'].mean()\n",
    "vendas_por_dia\n"
   ]
  },
  {
   "cell_type": "code",
   "execution_count": 9,
   "id": "bdecc1bc",
   "metadata": {},
   "outputs": [
    {
     "data": {
      "text/plain": [
       "Método de Pagamento\n",
       "Dinheiro             261\n",
       "Pix                  250\n",
       "Boleto               245\n",
       "Cartão de Crédito    244\n",
       "Name: count, dtype: int64"
      ]
     },
     "execution_count": 9,
     "metadata": {},
     "output_type": "execute_result"
    }
   ],
   "source": [
    "\n",
    "# Tarefa 3 - Análise dos Métodos de Pagamento\n",
    "# Me diga o quanto (total) cada tipo de pagamento é utilizado, com base nos produtos e vendas registradas no arquivo vendas_supermercado.csv\n",
    "frequencia_pagamento = mercado['Método de Pagamento'].value_counts()\n",
    "frequencia_pagamento\n"
   ]
  }
 ],
 "metadata": {
  "kernelspec": {
   "display_name": "neto",
   "language": "python",
   "name": "python3"
  },
  "language_info": {
   "codemirror_mode": {
    "name": "ipython",
    "version": 3
   },
   "file_extension": ".py",
   "mimetype": "text/x-python",
   "name": "python",
   "nbconvert_exporter": "python",
   "pygments_lexer": "ipython3",
   "version": "3.13.2"
  }
 },
 "nbformat": 4,
 "nbformat_minor": 5
}
