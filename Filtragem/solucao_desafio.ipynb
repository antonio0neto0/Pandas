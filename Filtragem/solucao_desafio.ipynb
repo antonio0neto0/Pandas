{
 "cells": [
  {
   "cell_type": "code",
   "execution_count": null,
   "metadata": {},
   "outputs": [],
   "source": [
    "import pandas as pd\n",
    "pedidos = pd.read_csv('./pedidos.csv')\n",
    "\n",
    "# Desafio 1: Filtragem por Método de Pagamento e Faixa de Preço\n",
    "# Encontre todos os pedidos no DataFrame `pedidos` pagos com cartão de crédito onde o preço unitário é inferior a 500.\n",
    "cartao_credito_abaixo_500 = pedidos[(pedidos['metodo_pagamento'] == 'Cartão de Crédito') & (pedidos['preco_unitario'] < 500)]\n",
    "\n",
    "# Desafio 2: Filtragem por Categoria de Produto\n",
    "# Selecione todos os pedidos no DataFrame `pedidos` que são de 'Laptop'.\n",
    "pedidos_laptops = pedidos[pedidos['produto'] == 'Laptop']\n",
    "\n",
    "# Desafio 3: Filtragem Composta de Produtos e Preço\n",
    "# Encontre todos os pedidos de 'Fones de Ouvido' com preço unitário superior a 200.\n",
    "fones_ouvido_acima_200 = pedidos[(pedidos['produto'] == 'Fones de Ouvido') & (pedidos['preco_unitario'] > 200)]"
   ]
  }
 ],
 "metadata": {
  "kernelspec": {
   "display_name": "jhonatan",
   "language": "python",
   "name": "python3"
  },
  "language_info": {
   "codemirror_mode": {
    "name": "ipython",
    "version": 3
   },
   "file_extension": ".py",
   "mimetype": "text/x-python",
   "name": "python",
   "nbconvert_exporter": "python",
   "pygments_lexer": "ipython3",
   "version": "3.12.0"
  }
 },
 "nbformat": 4,
 "nbformat_minor": 2
}
