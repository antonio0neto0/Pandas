{
 "cells": [
  {
   "cell_type": "code",
   "execution_count": 8,
   "metadata": {},
   "outputs": [],
   "source": [
    "import pandas as pd\n",
    "\n",
    "pedidos = pd.read_csv('./pedidos.csv')\n",
    "\n",
    "# Desafio 1: Extraindo o ano, mês e dia com base na data do pedido do arquivo pedidos.csv\n",
    "# Desafio 2: Calcule o total de custo de envio para cada mês do arquivo pedidos.csv\n",
    "# Desafio 3: Encontre a média de vendas para cada dia da semana do arquivo pedidos.csv\n",
    "# Imprima os resultaos de cada desafio na tela\n",
    "\n",
    "\n",
    "\n"
   ]
  }
 ],
 "metadata": {
  "kernelspec": {
   "display_name": "jhonatan",
   "language": "python",
   "name": "python3"
  },
  "language_info": {
   "codemirror_mode": {
    "name": "ipython",
    "version": 3
   },
   "file_extension": ".py",
   "mimetype": "text/x-python",
   "name": "python",
   "nbconvert_exporter": "python",
   "pygments_lexer": "ipython3",
   "version": "3.12.0"
  }
 },
 "nbformat": 4,
 "nbformat_minor": 2
}
