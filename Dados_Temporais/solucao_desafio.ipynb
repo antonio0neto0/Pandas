{
 "cells": [
  {
   "cell_type": "code",
   "execution_count": 1,
   "metadata": {},
   "outputs": [
    {
     "name": "stdout",
     "output_type": "stream",
     "text": [
      "Total de Custo de Envio por Mês:\n",
      " Mês\n",
      "1     1293.95\n",
      "2      987.96\n",
      "3      996.97\n",
      "4      799.45\n",
      "5      865.78\n",
      "6      980.17\n",
      "7     1310.87\n",
      "8      996.98\n",
      "9      743.67\n",
      "10    1148.46\n",
      "11     839.19\n",
      "12    1132.75\n",
      "Name: custo_envio, dtype: float64\n",
      "Média de custo de envio por Dia da Semana:\n",
      " Dia da Semana\n",
      "0    26.098000\n",
      "1    26.652909\n",
      "2    26.669091\n",
      "3    25.276923\n",
      "4    30.387547\n",
      "5    27.140000\n",
      "6    28.958500\n",
      "Name: custo_envio, dtype: float64\n"
     ]
    }
   ],
   "source": [
    "import pandas as pd\n",
    "\n",
    "pedidos = pd.read_csv('./pedidos.csv')\n",
    "pedidos['data_pedido'] = pd.to_datetime(pedidos['data_pedido'])\n",
    "\n",
    "# Desafio 1: Extraindo o ano, mês e dia com base na data do pedido do arquivo pedidos.csv\n",
    "pedidos['Ano'] = pedidos['data_pedido'].dt.year\n",
    "pedidos['Mês'] = pedidos['data_pedido'].dt.month\n",
    "pedidos['Dia'] = pedidos['data_pedido'].dt.day\n",
    "# Desafio 2: Calcule o total de custo de envio para cada mês do arquivo pedidos.csv\n",
    "vendas_por_mes = pedidos.groupby('Mês')['custo_envio'].sum()\n",
    "print(\"Total de Custo de Envio por Mês:\\n\", vendas_por_mes)\n",
    "\n",
    "# Desafio 3: Encontre a média de vendas para cada dia da semana do arquivo pedidos.csv\n",
    "pedidos['Dia da Semana'] = pedidos['data_pedido'].dt.dayofweek\n",
    "media_vendas_dia = pedidos.groupby('Dia da Semana')['custo_envio'].mean()\n",
    "print(\"Média de custo de envio por Dia da Semana:\\n\", media_vendas_dia)"
   ]
  }
 ],
 "metadata": {
  "kernelspec": {
   "display_name": "neto",
   "language": "python",
   "name": "python3"
  },
  "language_info": {
   "codemirror_mode": {
    "name": "ipython",
    "version": 3
   },
   "file_extension": ".py",
   "mimetype": "text/x-python",
   "name": "python",
   "nbconvert_exporter": "python",
   "pygments_lexer": "ipython3",
   "version": "3.13.2"
  }
 },
 "nbformat": 4,
 "nbformat_minor": 2
}
