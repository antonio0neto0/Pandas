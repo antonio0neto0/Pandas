{
 "cells": [
  {
   "cell_type": "code",
   "execution_count": 6,
   "metadata": {},
   "outputs": [],
   "source": [
    "# Baixe o arquivo visitas_parque.csv e faça os seguintes desafios\n",
    "# obtenha a média de visitas agrupadas por dias da semana\n",
    "# Monte e exiba um gráfico de barra(bar) com estes dados\n",
    "# Não esqueça de colocar uma legenda textual, representando cada dia da semana\n",
    "# Seu gráfico deve ficar igual a imagem\n"
   ]
  }
 ],
 "metadata": {
  "kernelspec": {
   "display_name": "jhonatan",
   "language": "python",
   "name": "python3"
  },
  "language_info": {
   "codemirror_mode": {
    "name": "ipython",
    "version": 3
   },
   "file_extension": ".py",
   "mimetype": "text/x-python",
   "name": "python",
   "nbconvert_exporter": "python",
   "pygments_lexer": "ipython3",
   "version": "3.12.0"
  }
 },
 "nbformat": 4,
 "nbformat_minor": 2
}
