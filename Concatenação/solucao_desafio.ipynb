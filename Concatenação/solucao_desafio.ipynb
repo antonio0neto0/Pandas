{
 "cells": [
  {
   "cell_type": "code",
   "execution_count": 1,
   "metadata": {},
   "outputs": [
    {
     "data": {
      "text/html": [
       "<div>\n",
       "<style scoped>\n",
       "    .dataframe tbody tr th:only-of-type {\n",
       "        vertical-align: middle;\n",
       "    }\n",
       "\n",
       "    .dataframe tbody tr th {\n",
       "        vertical-align: top;\n",
       "    }\n",
       "\n",
       "    .dataframe thead th {\n",
       "        text-align: right;\n",
       "    }\n",
       "</style>\n",
       "<table border=\"1\" class=\"dataframe\">\n",
       "  <thead>\n",
       "    <tr style=\"text-align: right;\">\n",
       "      <th></th>\n",
       "      <th>id_aluno</th>\n",
       "      <th>nome</th>\n",
       "    </tr>\n",
       "  </thead>\n",
       "  <tbody>\n",
       "    <tr>\n",
       "      <th>0</th>\n",
       "      <td>1</td>\n",
       "      <td>Ana</td>\n",
       "    </tr>\n",
       "    <tr>\n",
       "      <th>1</th>\n",
       "      <td>2</td>\n",
       "      <td>Bruno</td>\n",
       "    </tr>\n",
       "    <tr>\n",
       "      <th>2</th>\n",
       "      <td>3</td>\n",
       "      <td>Carla</td>\n",
       "    </tr>\n",
       "    <tr>\n",
       "      <th>3</th>\n",
       "      <td>4</td>\n",
       "      <td>David</td>\n",
       "    </tr>\n",
       "    <tr>\n",
       "      <th>4</th>\n",
       "      <td>5</td>\n",
       "      <td>Eva</td>\n",
       "    </tr>\n",
       "  </tbody>\n",
       "</table>\n",
       "</div>"
      ],
      "text/plain": [
       "   id_aluno   nome\n",
       "0         1    Ana\n",
       "1         2  Bruno\n",
       "2         3  Carla\n",
       "3         4  David\n",
       "4         5    Eva"
      ]
     },
     "execution_count": 1,
     "metadata": {},
     "output_type": "execute_result"
    }
   ],
   "source": [
    "\n",
    "import pandas as pd\n",
    "\n",
    "\n",
    "alunos1 = pd.read_csv('./alunos1.csv')\n",
    "alunos2 = pd.read_csv('./alunos2.csv')\n",
    "alunos3 = pd.read_csv('./alunos3.csv')\n",
    "\n",
    "# Una verticalmente os dados dos arquivos alunos1.csv, alunos2.csv e alunos3.csv(em anexo) e exiba o resultado na tela\n",
    "todos_aluno = pd.concat([alunos1, alunos2, alunos3])\n",
    "todos_aluno.head(5)\n",
    "\n",
    "# Identifique cada dataframe através de uma chave própria\n",
    "todos_aluno_com_chaves = pd.concat([alunos1,alunos2,alunos3],keys={'alunos1','alunos2','alunos3'})\n",
    "todos_aluno_com_chaves.head(5)\n",
    "\n",
    "# Reset o índice da concatenação dos 3 arquivos\n",
    "todos_aluno_com_chaves = todos_aluno_com_chaves.reset_index(drop=True)\n",
    "todos_aluno_com_chaves.head(5)\n"
   ]
  }
 ],
 "metadata": {
  "kernelspec": {
   "display_name": "jhonatan",
   "language": "python",
   "name": "python3"
  },
  "language_info": {
   "codemirror_mode": {
    "name": "ipython",
    "version": 3
   },
   "file_extension": ".py",
   "mimetype": "text/x-python",
   "name": "python",
   "nbconvert_exporter": "python",
   "pygments_lexer": "ipython3",
   "version": "3.12.0"
  }
 },
 "nbformat": 4,
 "nbformat_minor": 2
}
