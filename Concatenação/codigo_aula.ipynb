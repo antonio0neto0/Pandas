{
 "cells": [
  {
   "cell_type": "code",
   "execution_count": 10,
   "metadata": {},
   "outputs": [
    {
     "data": {
      "text/html": [
       "<div>\n",
       "<style scoped>\n",
       "    .dataframe tbody tr th:only-of-type {\n",
       "        vertical-align: middle;\n",
       "    }\n",
       "\n",
       "    .dataframe tbody tr th {\n",
       "        vertical-align: top;\n",
       "    }\n",
       "\n",
       "    .dataframe thead th {\n",
       "        text-align: right;\n",
       "    }\n",
       "</style>\n",
       "<table border=\"1\" class=\"dataframe\">\n",
       "  <thead>\n",
       "    <tr style=\"text-align: right;\">\n",
       "      <th></th>\n",
       "      <th></th>\n",
       "      <th>id_aluno</th>\n",
       "      <th>nome</th>\n",
       "    </tr>\n",
       "  </thead>\n",
       "  <tbody>\n",
       "    <tr>\n",
       "      <th rowspan=\"2\" valign=\"top\">alunos1</th>\n",
       "      <th>0</th>\n",
       "      <td>1</td>\n",
       "      <td>Ana</td>\n",
       "    </tr>\n",
       "    <tr>\n",
       "      <th>1</th>\n",
       "      <td>2</td>\n",
       "      <td>Bruno</td>\n",
       "    </tr>\n",
       "    <tr>\n",
       "      <th rowspan=\"2\" valign=\"top\">alunos2</th>\n",
       "      <th>0</th>\n",
       "      <td>3</td>\n",
       "      <td>Carla</td>\n",
       "    </tr>\n",
       "    <tr>\n",
       "      <th>1</th>\n",
       "      <td>4</td>\n",
       "      <td>David</td>\n",
       "    </tr>\n",
       "  </tbody>\n",
       "</table>\n",
       "</div>"
      ],
      "text/plain": [
       "           id_aluno   nome\n",
       "alunos1 0         1    Ana\n",
       "        1         2  Bruno\n",
       "alunos2 0         3  Carla\n",
       "        1         4  David"
      ]
     },
     "execution_count": 10,
     "metadata": {},
     "output_type": "execute_result"
    }
   ],
   "source": [
    "import pandas as pd\n",
    "\n",
    "alunos1 = pd.read_csv('./alunos1.csv')\n",
    "alunos2 = pd.read_csv('./alunos2.csv')\n",
    "notas = pd.read_csv('./notas.csv')\n",
    "# Concatenar(unir) diferentes dataframes\n",
    "# Unir dataframes verticalmente(um em cima do outro)\n",
    "todos_alunos_vertical = pd.concat([alunos1,alunos2],axis=0)\n",
    "todos_alunos_vertical.head(5)\n",
    "# Unir dataframes horizontalmente(lado a lado)\n",
    "todos_alunos_horizontal = pd.concat([alunos1,notas],axis=1)\n",
    "todos_alunos_horizontal.head(5)\n",
    "# Como resetar o índice, para ter uma índice sequencial no novo dataframe\n",
    "todos_aluno_indice_sequencial = pd.concat([alunos1,alunos2],ignore_index=True)\n",
    "# Resetar índice, opção 2\n",
    "todos_aluno_indice_sequencial = pd.concat([alunos1,alunos2])\n",
    "todos_aluno_indice_sequencial = todos_aluno_indice_sequencial.reset_index(drop=True)\n",
    "# Caso queira identificar visualmente cada dataframe, você pode setar chaves(só funciona se não resetar o índice) para identificar melhor de onde veio cada informação\n",
    "todos_alunos_com_chaves = pd.concat([alunos1,alunos2],keys={'alunos1','alunos2'})\n",
    "todos_alunos_com_chaves.head(5)\n",
    "\n"
   ]
  }
 ],
 "metadata": {
  "kernelspec": {
   "display_name": "neto",
   "language": "python",
   "name": "python3"
  },
  "language_info": {
   "codemirror_mode": {
    "name": "ipython",
    "version": 3
   },
   "file_extension": ".py",
   "mimetype": "text/x-python",
   "name": "python",
   "nbconvert_exporter": "python",
   "pygments_lexer": "ipython3",
   "version": "3.13.2"
  }
 },
 "nbformat": 4,
 "nbformat_minor": 2
}
