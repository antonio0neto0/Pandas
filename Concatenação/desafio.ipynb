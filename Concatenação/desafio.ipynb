{
 "cells": [
  {
   "cell_type": "code",
   "execution_count": 5,
   "metadata": {},
   "outputs": [],
   "source": [
    "import pandas as pd\n",
    "\n",
    "# Una verticalmente os dados dos arquivos alunos1.csv, alunos2.csv e alunos3.csv(em anexo) e exiba o resultado na tela\n",
    "\n",
    "# Identifique cada dataframe através de uma chave própria e exiba esse resultado na tela\n",
    "\n",
    "# Resete o índice da concatenação dos 3 arquivos e exiba o resultado\n"
   ]
  }
 ],
 "metadata": {
  "kernelspec": {
   "display_name": "jhonatan",
   "language": "python",
   "name": "python3"
  },
  "language_info": {
   "codemirror_mode": {
    "name": "ipython",
    "version": 3
   },
   "file_extension": ".py",
   "mimetype": "text/x-python",
   "name": "python",
   "nbconvert_exporter": "python",
   "pygments_lexer": "ipython3",
   "version": "3.12.0"
  }
 },
 "nbformat": 4,
 "nbformat_minor": 2
}
