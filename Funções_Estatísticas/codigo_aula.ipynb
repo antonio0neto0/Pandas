{
 "cells": [
  {
   "cell_type": "code",
   "execution_count": 1,
   "metadata": {},
   "outputs": [
    {
     "name": "stdout",
     "output_type": "stream",
     "text": [
      "Media de 505.4499400000001\n",
      "A mediana é 511.56\n",
      "A moda é 11.98\n",
      "O desvio é 284.92689843660213\n",
      "A amplitude é 987.21\n",
      "O total de precos cadastrados na tabela é de 500\n",
      "A soma dos preços é 252724.97000000003\n"
     ]
    }
   ],
   "source": [
    "import pandas as pd\n",
    "\n",
    "pedidos = pd.read_csv('./pedidos.csv')\n",
    "pedidos.head(5)\n",
    "\n",
    "# Média - somando todos os valores e dividindo pela quantidade de valores somados, qual é o valor\n",
    "media = pedidos['preco_unitario'].mean()\n",
    "print(f'Media de {media}')\n",
    "\n",
    "# Mediana - qual é o valor do meio - [1,2,3,4,5]\n",
    "mediana = pedidos['preco_unitario'].median()\n",
    "print(f'A mediana é {mediana}')\n",
    "\n",
    "# Moda - Qual é o valor que mais se repete\n",
    "moda = pedidos['preco_unitario'].mode()[0]\n",
    "print(f'A moda é {moda}')\n",
    "# Desvio Padrão - quão distante da média os valores estão - (-284.92  505.44 + 284.92)\n",
    "desvio = pedidos['preco_unitario'].std()\n",
    "print(f'O desvio é {desvio}')\n",
    "# Amplitude - Qual é a diferença entre os valores máximo e mínimo\n",
    "amplitude = pedidos['preco_unitario'].max() - pedidos['preco_unitario'].min()\n",
    "print(f'A amplitude é {amplitude}')\n",
    "# Contagem - Quantos itens temos em uma coluna\n",
    "contagem_precos = pedidos['preco_unitario'].count()\n",
    "print(f'O total de precos cadastrados na tabela é de {contagem_precos}')\n",
    "# Soma - somar todos os valores de uma coluna e retornar o total\n",
    "soma_precos = pedidos['preco_unitario'].sum()\n",
    "print(f'A soma dos preços é {soma_precos}')\n",
    "\n"
   ]
  }
 ],
 "metadata": {
  "kernelspec": {
   "display_name": "neto",
   "language": "python",
   "name": "python3"
  },
  "language_info": {
   "codemirror_mode": {
    "name": "ipython",
    "version": 3
   },
   "file_extension": ".py",
   "mimetype": "text/x-python",
   "name": "python",
   "nbconvert_exporter": "python",
   "pygments_lexer": "ipython3",
   "version": "3.13.2"
  }
 },
 "nbformat": 4,
 "nbformat_minor": 2
}
