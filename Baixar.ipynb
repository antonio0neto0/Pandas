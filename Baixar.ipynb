{
 "cells": [
  {
   "cell_type": "code",
   "execution_count": null,
   "id": "1574e5f4",
   "metadata": {},
   "outputs": [],
   "source": [
    "# primerio criar o ambiente virtual :python -m venv neto\n",
    "#entrar no ambiente :.\\neto\\Scripts\\activate\n",
    "#baixar o pandas : pip install pandas openpyxl\n",
    "# pip install pyarrow"
   ]
  }
 ],
 "metadata": {
  "kernelspec": {
   "display_name": "neto",
   "language": "python",
   "name": "python3"
  },
  "language_info": {
   "name": "python",
   "version": "3.13.2"
  }
 },
 "nbformat": 4,
 "nbformat_minor": 5
}
