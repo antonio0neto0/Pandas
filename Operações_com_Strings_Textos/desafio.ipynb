{
 "cells": [
  {
   "cell_type": "code",
   "execution_count": 8,
   "metadata": {},
   "outputs": [],
   "source": [
    "import pandas as pd\n",
    "\n",
    "mercado = pd.read_csv('./vendas-supermercado.csv')\n",
    "\n",
    "# Desafio 1: Extrair o primeiro nome da coluna 'Nome do Cliente' e criar uma nova coluna 'Nome'.\n",
    "\n",
    "# Desafio 2: Criar uma coluna booleana que indique se um produto pertence à subcategoria 'Estantes'.\n",
    "\n",
    "# Desafio 3: Transformar todos os nomes dos produtos em maiúsculas.\n",
    "\n",
    "\n",
    "\n"
   ]
  }
 ],
 "metadata": {
  "kernelspec": {
   "display_name": "jhonatan",
   "language": "python",
   "name": "python3"
  },
  "language_info": {
   "codemirror_mode": {
    "name": "ipython",
    "version": 3
   },
   "file_extension": ".py",
   "mimetype": "text/x-python",
   "name": "python",
   "nbconvert_exporter": "python",
   "pygments_lexer": "ipython3",
   "version": "3.12.0"
  }
 },
 "nbformat": 4,
 "nbformat_minor": 2
}
