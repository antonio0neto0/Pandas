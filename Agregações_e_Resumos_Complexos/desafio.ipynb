{
 "cells": [
  {
   "cell_type": "code",
   "execution_count": 9,
   "metadata": {},
   "outputs": [],
   "source": [
    "import pandas as pd\n",
    "\n",
    "mercado = pd.read_csv('./vendas-supermercado.csv')\n",
    "# Desafio 1\n",
    "# Lucro Médio por Subcategoria e Segmento\n",
    "# Desafio: Calcule o lucro médio por subcategoria e segmento\n",
    "\n",
    "# Desafio 2\n",
    "# Quantidade Total e Desconto Médio por Cidade\n",
    "# Desafio: Determine a quantidade total de produtos vendidos e o desconto médio aplicado em cada cidade usando a função \"agg\"\n",
    "\n",
    "# Desafio 3\n",
    "# Análise Detalhada por Cliente\n",
    "# Desafio: Crie um resumo detalhado das vendas por cliente, incluindo o total de vendas, o número de pedidos e o lucro médio usando a função \"agg\"\n",
    "\n",
    "\n",
    "\n"
   ]
  }
 ],
 "metadata": {
  "kernelspec": {
   "display_name": "jhonatan",
   "language": "python",
   "name": "python3"
  },
  "language_info": {
   "codemirror_mode": {
    "name": "ipython",
    "version": 3
   },
   "file_extension": ".py",
   "mimetype": "text/x-python",
   "name": "python",
   "nbconvert_exporter": "python",
   "pygments_lexer": "ipython3",
   "version": "3.12.0"
  }
 },
 "nbformat": 4,
 "nbformat_minor": 2
}
