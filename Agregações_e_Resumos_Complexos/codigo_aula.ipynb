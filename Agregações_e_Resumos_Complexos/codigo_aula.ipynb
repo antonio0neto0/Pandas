{
 "cells": [
  {
   "cell_type": "code",
   "execution_count": 10,
   "metadata": {},
   "outputs": [
    {
     "data": {
      "text/html": [
       "<div>\n",
       "<style scoped>\n",
       "    .dataframe tbody tr th:only-of-type {\n",
       "        vertical-align: middle;\n",
       "    }\n",
       "\n",
       "    .dataframe tbody tr th {\n",
       "        vertical-align: top;\n",
       "    }\n",
       "\n",
       "    .dataframe thead th {\n",
       "        text-align: right;\n",
       "    }\n",
       "</style>\n",
       "<table border=\"1\" class=\"dataframe\">\n",
       "  <thead>\n",
       "    <tr style=\"text-align: right;\">\n",
       "      <th></th>\n",
       "      <th>Vendas</th>\n",
       "      <th>Desconto</th>\n",
       "      <th>Quantidade</th>\n",
       "    </tr>\n",
       "    <tr>\n",
       "      <th>Categoria</th>\n",
       "      <th></th>\n",
       "      <th></th>\n",
       "      <th></th>\n",
       "    </tr>\n",
       "  </thead>\n",
       "  <tbody>\n",
       "    <tr>\n",
       "      <th>Material de Escritório</th>\n",
       "      <td>719047.0320</td>\n",
       "      <td>0.157285</td>\n",
       "      <td>3.801195</td>\n",
       "    </tr>\n",
       "    <tr>\n",
       "      <th>Móveis</th>\n",
       "      <td>741999.7953</td>\n",
       "      <td>0.173923</td>\n",
       "      <td>3.785007</td>\n",
       "    </tr>\n",
       "    <tr>\n",
       "      <th>Tecnologia</th>\n",
       "      <td>836154.0330</td>\n",
       "      <td>0.132323</td>\n",
       "      <td>3.756903</td>\n",
       "    </tr>\n",
       "  </tbody>\n",
       "</table>\n",
       "</div>"
      ],
      "text/plain": [
       "                             Vendas  Desconto  Quantidade\n",
       "Categoria                                                \n",
       "Material de Escritório  719047.0320  0.157285    3.801195\n",
       "Móveis                  741999.7953  0.173923    3.785007\n",
       "Tecnologia              836154.0330  0.132323    3.756903"
      ]
     },
     "execution_count": 10,
     "metadata": {},
     "output_type": "execute_result"
    }
   ],
   "source": [
    "import pandas as pd\n",
    "\n",
    "mercado = pd.read_csv('vendas-supermercado.csv')\n",
    "# Agrupamento + aplicação de um única cálculo estatístico - Agrupamento do total de vendas, por categoria\n",
    "agregacao_basica = mercado.groupby('Categoria')['Vendas'].sum()\n",
    "agregacao_basica\n",
    "# Agrupamento + aplicação de um única cálculo estatístico(opção 2)\n",
    "agregacao_basica_2 = mercado.groupby('Categoria')['Vendas'].agg(['sum'])\n",
    "agregacao_basica_2\n",
    "# Agrupamento + aplicação de múltiplos cálculos estatísticos em uma única coluna\n",
    "agregacao_3 = mercado.groupby('Categoria')['Vendas'].agg(['sum','mean','std','max','min','count'])\n",
    "agregacao_3\n",
    "# Agrupamento + aplicação de múltiplos cálculos estatísticos em múltiplas colunas\n",
    "agregacao_4 = mercado.groupby(['Categoria','Região'])['Vendas'].agg(['sum','mean','std','max','min','count'])\n",
    "agregacao_4\n",
    "# Agrupamento + aplicações de cálculos estatísticos diferentes em cada coluna\n",
    "resumo_multidimensional = mercado.groupby(['Categoria']).agg({'Vendas': 'sum', 'Lucro': 'mean'})\n",
    "resumo_multidimensional\n",
    "# Agrupamento + aplicações de cálculos estatísticos diferentes em cada coluna\n",
    "agregacao_basica_2 = mercado.groupby('Categoria')['Vendas'].agg(['sum'])\n",
    "agregacao_5 = mercado.groupby('Categoria').agg({'Vendas': 'sum','Desconto':'mean','Quantidade':'mean'})\n",
    "agregacao_5\n",
    "\n",
    "\n"
   ]
  }
 ],
 "metadata": {
  "kernelspec": {
   "display_name": "neto",
   "language": "python",
   "name": "python3"
  },
  "language_info": {
   "codemirror_mode": {
    "name": "ipython",
    "version": 3
   },
   "file_extension": ".py",
   "mimetype": "text/x-python",
   "name": "python",
   "nbconvert_exporter": "python",
   "pygments_lexer": "ipython3",
   "version": "3.13.2"
  }
 },
 "nbformat": 4,
 "nbformat_minor": 2
}
