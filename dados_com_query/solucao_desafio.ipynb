{
 "cells": [
  {
   "cell_type": "code",
   "execution_count": 12,
   "metadata": {},
   "outputs": [],
   "source": [
    "import pandas as pd\n",
    "\n",
    "\n",
    "pedidos = pd.read_csv('pedidos.csv')\n",
    "pedidos.head(5)\n",
    "\n",
    "# Use query para retornar do dataframe pedidos todos os pedidos que estão cadastrados dentro da categoria Acessórios ou Vestuário\n",
    "p1 = pedidos.query('categoria in [\"Acessórios\",\"Vestuário\"]')\n",
    "p1.head(5)\n",
    "\n",
    "# Use query para retornar todos os pedidos com a quantidade igual a 9, que possuem o status_pedido em Entregue ou Enviado\n",
    "p2 = pedidos.query('quantidade == 9 and status_pedido in [\"Entregue\",\"Enviado\"]')\n",
    "p2.head(5)\n",
    "# Use query para retornar todos os pedidos que possuam o preco entre 100 a 500\n",
    "p3 = pedidos.query('preco_unitario >= 100 and preco_unitario <= 500')\n",
    "p3.head(5)"
   ]
  }
 ],
 "metadata": {
  "kernelspec": {
   "display_name": "jhonatan",
   "language": "python",
   "name": "python3"
  },
  "language_info": {
   "codemirror_mode": {
    "name": "ipython",
    "version": 3
   },
   "file_extension": ".py",
   "mimetype": "text/x-python",
   "name": "python",
   "nbconvert_exporter": "python",
   "pygments_lexer": "ipython3",
   "version": "3.12.0"
  }
 },
 "nbformat": 4,
 "nbformat_minor": 2
}
