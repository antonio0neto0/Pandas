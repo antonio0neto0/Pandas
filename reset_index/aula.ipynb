{
 "cells": [
  {
   "cell_type": "markdown",
   "metadata": {},
   "source": [
    "Tarefa 1: Distribuição de Matrículas por Curso em 2024"
   ]
  },
  {
   "cell_type": "code",
   "execution_count": 3,
   "metadata": {},
   "outputs": [
    {
     "data": {
      "text/html": [
       "<div>\n",
       "<style scoped>\n",
       "    .dataframe tbody tr th:only-of-type {\n",
       "        vertical-align: middle;\n",
       "    }\n",
       "\n",
       "    .dataframe tbody tr th {\n",
       "        vertical-align: top;\n",
       "    }\n",
       "\n",
       "    .dataframe thead th {\n",
       "        text-align: right;\n",
       "    }\n",
       "</style>\n",
       "<table border=\"1\" class=\"dataframe\">\n",
       "  <thead>\n",
       "    <tr style=\"text-align: right;\">\n",
       "      <th></th>\n",
       "      <th>Categoria</th>\n",
       "      <th>Total de Vendas</th>\n",
       "    </tr>\n",
       "  </thead>\n",
       "  <tbody>\n",
       "    <tr>\n",
       "      <th>0</th>\n",
       "      <td>Material de Escritório</td>\n",
       "      <td>719047.0320</td>\n",
       "    </tr>\n",
       "    <tr>\n",
       "      <th>1</th>\n",
       "      <td>Móveis</td>\n",
       "      <td>741999.7953</td>\n",
       "    </tr>\n",
       "    <tr>\n",
       "      <th>2</th>\n",
       "      <td>Tecnologia</td>\n",
       "      <td>836154.0330</td>\n",
       "    </tr>\n",
       "  </tbody>\n",
       "</table>\n",
       "</div>"
      ],
      "text/plain": [
       "                Categoria  Total de Vendas\n",
       "0  Material de Escritório      719047.0320\n",
       "1                  Móveis      741999.7953\n",
       "2              Tecnologia      836154.0330"
      ]
     },
     "execution_count": 3,
     "metadata": {},
     "output_type": "execute_result"
    }
   ],
   "source": [
    "import pandas as pd\n",
    "\n",
    "mercado = pd.read_csv('./vendas-supermercado.csv')\n",
    "\n",
    "agregacao_basica = mercado.groupby('Categoria')['Vendas'].sum().reset_index(name='Total de Vendas')\n",
    "agregacao_basica.head(5)\n",
    "\n",
    "agregacao_basica_2 = mercado.groupby('Categoria')['Vendas'].agg(['sum']).rename(columns={'sum':'Total de Vendas'}).reset_index()\n",
    "agregacao_basica_2.head(5)\n",
    "\n"
   ]
  },
  {
   "cell_type": "code",
   "execution_count": 211,
   "metadata": {},
   "outputs": [],
   "source": [
    "import pandas as pd\n",
    "\n",
    "# COMO APLICAR O reset_index() - para retornar dataframes\n",
    "mercado = pd.read_csv('./vendas-supermercado.csv')\n",
    "# Agrupamento + aplicação de um única cálculo estatístico - Agrupamento do total de vendas, por categoria\n",
    "agregacao_basica = mercado.groupby('Categoria')['Vendas'].sum()\n",
    "agregacao_basica_reset_index = mercado.groupby('Categoria')['Vendas'].sum().reset_index()\n",
    "\n",
    "# Agrupamento + aplicação de um única cálculo estatístico(opção 2)\n",
    "agregacao_basica_2 = mercado.groupby('Categoria')['Vendas'].agg(['sum'])\n",
    "agregacao_basica_2_reset_index = mercado.groupby('Categoria')['Vendas'].agg(['sum']).reset_index()\n",
    "\n",
    "# Agrupamento + aplicação de múltiplos cálculos estatísticos em uma única coluna\n",
    "agregacao_3 = mercado.groupby('Categoria')['Vendas'].agg(['sum','mean','std','max','min','count'])\n",
    "agregacao_3_reset_index = mercado.groupby('Categoria')['Vendas'].agg(['sum','mean','std','max','min','count']).reset_index()\n",
    "\n",
    "# Agrupamento + aplicação de múltiplos cálculos estatísticos em múltiplas colunas\n",
    "agregacao_4 = mercado.groupby(['Categoria','Região'])['Vendas'].agg(['sum','mean','std','max','min','count'])\n",
    "agregacao_4_reset_index = mercado.groupby(['Categoria','Região'])['Vendas'].agg(['sum','mean','std','max','min','count']).reset_index()\n",
    "\n",
    "# Agrupamento + aplicações de cálculos estatísticos diferentes em cada coluna\n",
    "resumo_multidimensional = mercado.groupby(['Categoria']).agg({'Vendas': 'sum', 'Lucro': 'mean'})\n",
    "resumo_multidimensional_reset_index = mercado.groupby(['Categoria']).agg({'Vendas': 'sum', 'Lucro': 'mean'}).reset_index()\n",
    "\n",
    "# Agrupamento + aplicações de cálculos estatísticos diferentes em cada coluna\n",
    "agregacao_5 = mercado.groupby('Categoria').agg({'Vendas': 'sum','Desconto':'mean','Quantidade':'mean'})\n",
    "agregacao_5_reset_index = mercado.groupby('Categoria').agg({'Vendas': 'sum','Desconto':'mean','Quantidade':'mean'}).reset_index()\n",
    "\n",
    "\n",
    "\n",
    "# COMO RENOMEAR COLUNAS\n",
    "\n",
    "agregacao_basica_reset_index = mercado.groupby('Categoria')['Vendas'].sum().reset_index()\n",
    "agregacao_basica_reset_index_com_renomeacao_colunas = mercado.groupby('Categoria')['Vendas'].sum().reset_index(name='Total Vendas')\n",
    "\n",
    "agregacao_basica_2_reset_index = mercado.groupby('Categoria')['Vendas'].agg(['sum']).reset_index()\n",
    "agregacao_basica_2_reset_index_com_renomeacao_colunas = mercado.groupby('Categoria')['Vendas'].agg(['sum']).rename(columns={'sum': 'total vendas'}).reset_index()\n",
    "\n",
    "agregacao_3_reset_index_com_renomeacao_colunas = mercado.groupby('Categoria')['Vendas'].agg(['sum','mean','std','max','min','count']).reset_index()\n",
    "agregacao_3_reset_index_com_renomeacao_colunas = mercado.groupby('Categoria')['Vendas'].agg(['sum','mean','std','max','min','count']).reset_index().rename(columns={'sum': 'Total Vendas', 'mean': 'Média Vendas', 'std': 'Desvio Padrão Vendas', 'max': 'Máximo Vendas', 'min': 'Mínimo Vendas', 'count': 'Contagem Vendas'})\n",
    "\n",
    "agregacao_4_reset_index_com_renomeacao_colunas = mercado.groupby(['Categoria','Região'])['Vendas'].agg(['sum','mean','std','max','min','count']).reset_index()\n",
    "agregacao_4_reset_index_com_renomeacao_colunas = mercado.groupby(['Categoria','Região'])['Vendas'].agg(['sum','mean','std','max','min','count']).reset_index().rename(columns={'sum': 'Total Vendas', 'mean': 'Média Vendas', 'std': 'Desvio Padrão Vendas', 'max': 'Máximo Vendas', 'min': 'Mínimo Vendas', 'count': 'Contagem Vendas'})\n",
    "\n",
    "resumo_multidimensional_reset_index_com_renomeacao_colunas = mercado.groupby(['Categoria']).agg({'Vendas': 'sum', 'Lucro': 'mean'}).reset_index()\n",
    "resumo_multidimensional_reset_index_com_renomeacao_colunas = mercado.groupby(['Categoria']).agg({'Vendas': 'sum', 'Lucro': 'mean'}).reset_index().rename(columns={'Vendas': 'Total Vendas', 'Lucro': 'Média Lucro'})\n",
    "\n",
    "agregacao_basica_2_reset_index_com_renomeacao_colunas = mercado.groupby('Categoria')['Vendas'].agg(['sum'])\n",
    "agregacao_basica_2_reset_index_com_renomeacao_colunas = mercado.groupby('Categoria')['Vendas'].agg(['sum']).reset_index().rename(columns={'sum': 'Total Vendas'})\n",
    "\n",
    "agregacao_5_reset_index_com_renomeacao_colunas = mercado.groupby('Categoria').agg({'Vendas': 'sum','Desconto':'mean','Quantidade':'mean'}).reset_index()\n",
    "agregacao_5_reset_index_com_renomeacao_colunas = mercado.groupby('Categoria').agg({'Vendas': 'sum', 'Desconto': 'mean', 'Quantidade': 'mean'}).reset_index().rename(columns={'Vendas': 'Total Vendas', 'Desconto': 'Média Desconto', 'Quantidade': 'Média Quantidade'})\n",
    "\n"
   ]
  }
 ],
 "metadata": {
  "kernelspec": {
   "display_name": "neto",
   "language": "python",
   "name": "python3"
  },
  "language_info": {
   "codemirror_mode": {
    "name": "ipython",
    "version": 3
   },
   "file_extension": ".py",
   "mimetype": "text/x-python",
   "name": "python",
   "nbconvert_exporter": "python",
   "pygments_lexer": "ipython3",
   "version": "3.13.2"
  }
 },
 "nbformat": 4,
 "nbformat_minor": 2
}
