{
 "cells": [
  {
   "cell_type": "code",
   "execution_count": 6,
   "metadata": {},
   "outputs": [],
   "source": [
    "import pandas as pd\n",
    "\n",
    "# Ler\n",
    "clientes = pd.read_csv('./clientes.csv')\n",
    "# Limpar\n",
    "clientes.dropna()\n",
    "\n",
    "# Exportar\n",
    "\n",
    "# CSV\n",
    "clientes.to_csv('./clientes_limpo.csv',index=False)\n",
    "# XLSX\n",
    "clientes.to_excel('./clientes_limpo.xlsx',index=False)\n",
    "# JSON\n",
    "clientes.to_json('./clientes_limpo.json',index=False)"
   ]
  }
 ],
 "metadata": {
  "kernelspec": {
   "display_name": "jhonatan",
   "language": "python",
   "name": "python3"
  },
  "language_info": {
   "codemirror_mode": {
    "name": "ipython",
    "version": 3
   },
   "file_extension": ".py",
   "mimetype": "text/x-python",
   "name": "python",
   "nbconvert_exporter": "python",
   "pygments_lexer": "ipython3",
   "version": "3.12.0"
  }
 },
 "nbformat": 4,
 "nbformat_minor": 2
}
